{
 "cells": [
  {
   "cell_type": "code",
   "execution_count": 2,
   "metadata": {},
   "outputs": [],
   "source": [
    "import os\n",
    "import numpy as np\n",
    "import pandas as pd\n",
    "import librosa\n",
    "from scipy.io import wavfile\n",
    "import warnings\n",
    "from pydub import AudioSegment\n",
    "import ffmpeg"
   ]
  },
  {
   "cell_type": "code",
   "execution_count": 2,
   "metadata": {},
   "outputs": [],
   "source": [
    "path1='C:/Users/todtj/OneDrive/바탕 화면/TED1/'   # 원본 음성파일\n",
    "path2='C:/Users/todtj/OneDrive/바탕 화면/script1/' # 크롤링해서 저장된 폴더\n",
    "path3='C:/Users/todtj/OneDrive/바탕 화면/save/'   # 저장될공간"
   ]
  },
  {
   "cell_type": "markdown",
   "metadata": {},
   "source": [
    "## 문장단위로 만드는 코드\n"
   ]
  },
  {
   "cell_type": "code",
   "execution_count": 6,
   "metadata": {},
   "outputs": [],
   "source": [
    "path1='C:/Users/todtj/OneDrive/바탕 화면/TED1/'   # 원본 음성파일\n",
    "path2='C:/Users/todtj/OneDrive/바탕 화면/script1/' # 크롤링해서 저장된 폴더\n",
    "path3='C:/Users/todtj/OneDrive/바탕 화면/save/'   # 저장될공간\n",
    "file_list1=os.listdir(path1)\n",
    "file_list2=os.listdir(path2)\n",
    "for g in range(len(file_list2)):\n",
    "    voice1=path1+file_list1[g]\n",
    "    sound = AudioSegment.from_file(voice1,frame_rate=16000)\n",
    "    script1=pd.read_csv(path2+file_list2[g])\n",
    "    if script1.columns[0]=='Unnamed: 0':\n",
    "        del script1['Unnamed: 0']\n",
    "    if len(script1.columns)==3:\n",
    "        script1['sentence2']=''\n",
    "    elif len(script1.columns)==4:\n",
    "        script1['sentence2'].fillna('',inplace=True)\n",
    "    script1['sentence3']=script1['sentence1']+' '+script1['sentence2']\n",
    "## start##\n",
    "    spl=script1['start'].str.split(':')\n",
    "    empty=[]\n",
    "    for i in range(len(script1)):\n",
    "        minute=float(spl[i][1])*60\n",
    "        seconds=float(spl[i][2])\n",
    "        m_s=minute+seconds\n",
    "        empty.append(m_s)\n",
    "    script1['start_seconds']=empty\n",
    "## end##\n",
    "    spl=script1['end'].str.split(':')\n",
    "    empty=[]\n",
    "    for i in range(len(script1)):\n",
    "        minute=float(spl[i][1])*60\n",
    "        seconds=float(spl[i][2])\n",
    "        m_s=minute+seconds\n",
    "        empty.append(m_s)\n",
    "    script1['end_seconds']=empty\n",
    "    script1['start_seconds1']=script1['start_seconds']\n",
    "    script1['end_seconds1']=script1['end_seconds']\n",
    "    script1['duration']=script1['end_seconds1']-script1['start_seconds1']\n",
    "    sentence_cut=[]\n",
    "    start_cut=[]\n",
    "    end_cut=[]\n",
    "    a=''\n",
    "    b=0\n",
    "    c=0\n",
    "    count=0\n",
    "    \n",
    "    for i in range(len(script1)):\n",
    "        if '.' in script1['sentence3'][i]:\n",
    "            a=a+ script1['sentence3'][i]\n",
    "            b=script1['start_seconds1'][i-count]\n",
    "            c=script1['end_seconds1'][i]\n",
    "            sentence_cut.append(a)\n",
    "            start_cut.append(b)\n",
    "            end_cut.append(c)\n",
    "            a=''\n",
    "            c=0 \n",
    "            count=0 \n",
    "        else:\n",
    "            a=a+ ' ' + script1['sentence3'][i]\n",
    "            count=count+1        \n",
    "    final=pd.DataFrame([sentence_cut,start_cut,end_cut]).T\n",
    "    final.columns=['sentence','start','end']\n",
    "    final['duration']=final['end']-final['start']\n",
    "    for i in range(len(final)):\n",
    "        sound_sliced=sound[(final['start'][i]*1000-100):final['end'][i]*1000]\n",
    "        sound_sliced.export(path3+file_list1[g].replace(\".wav\",\"\")+\"_\"+str(i)+\".wav\", format=\"wav\",bitrate=16)\n",
    "        #y,sr= librosa.load(voice1,offset=final['start'][i],duration=final['duration'][i],sr=16000)\n",
    "        #librosa.output.write_wav(path3+file_list1[g].replace(\".wav\",\"\")+\"_\"+str(i)+\".wav\",y,sr)\n",
    "    final.to_csv(path3+file_list1[g]+'.csv',index=False)\n"
   ]
  },
  {
   "cell_type": "markdown",
   "metadata": {},
   "source": [
    "# chunk 단위로 duration까지만들기"
   ]
  },
  {
   "cell_type": "code",
   "execution_count": 21,
   "metadata": {},
   "outputs": [],
   "source": [
    "file_list1=os.listdir(path1)\n",
    "file_list2=os.listdir(path2)\n",
    "for g in range(len(file_list2)):\n",
    "    voice1=path1+file_list1[g]\n",
    "    sound = AudioSegment.from_file(voice1,frame_rate=16000)\n",
    "    script1=pd.read_csv(path2+file_list2[g])\n",
    "    if script1.columns[0]=='Unnamed: 0':\n",
    "        del script1['Unnamed: 0']\n",
    "    if len(script1.columns)==3:\n",
    "        script1['sentence2']=''\n",
    "    elif len(script1.columns)==4:\n",
    "        script1['sentence2'].fillna('',inplace=True)\n",
    "    script1['sentence3']=script1['sentence1']+' '+script1['sentence2']\n",
    "## start##\n",
    "    spl=script1['start'].str.split(':')\n",
    "    empty=[]\n",
    "    for i in range(len(script1)):\n",
    "        minute=float(spl[i][1])*60\n",
    "        seconds=float(spl[i][2])\n",
    "        m_s=minute+seconds\n",
    "        empty.append(m_s)\n",
    "    script1['start_seconds']=empty\n",
    "## end##\n",
    "    spl=script1['end'].str.split(':')\n",
    "    empty=[]\n",
    "    for i in range(len(script1)):\n",
    "        minute=float(spl[i][1])*60\n",
    "        seconds=float(spl[i][2])\n",
    "        m_s=minute+seconds\n",
    "        empty.append(m_s)\n",
    "    script1['end_seconds']=empty\n",
    "    script1['start_seconds1']=script1['start_seconds']+12.9\n",
    "    script1['end_seconds1']=script1['end_seconds']+12.9\n",
    "    script1['duration']=script1['end_seconds1']-script1['start_seconds1']\n",
    "    sentence_cut=[]\n",
    "    start_cut=[]\n",
    "    end_cut=[]\n",
    "    a=''\n",
    "    b=0\n",
    "    c=0\n",
    "    count=0\n",
    "    chunk1=[]\n",
    "    chunk2=[]\n",
    "    chunk3=[]\n",
    "    chunk4=[]\n",
    "    chunk5=[]\n",
    "    chunk6=[]\n",
    "    chunk7=[]\n",
    "    chunk8=[]\n",
    "    chunk9=[]\n",
    "    chunk10=[]\n",
    "    dur1=[]\n",
    "    dur2=[]\n",
    "    dur3=[]\n",
    "    dur4=[]\n",
    "    dur5=[]\n",
    "    dur6=[]\n",
    "    dur7=[]\n",
    "    dur8=[]\n",
    "    dur9=[]\n",
    "    dur10=[]\n",
    "    for i in range(len(script1)):\n",
    "        if '.' in script1['sentence3'][i]:\n",
    "            a=a+ script1['sentence3'][i]\n",
    "            b=script1['start_seconds1'][i-count]\n",
    "            c=script1['end_seconds1'][i]\n",
    "            sentence_cut.append(a)\n",
    "            start_cut.append(b)\n",
    "            end_cut.append(c)\n",
    "            a=''\n",
    "            c=0\n",
    "            if count==0:\n",
    "                chunk1.append(script1['sentence3'][i-count])\n",
    "                chunk2.append('')\n",
    "                chunk3.append('')\n",
    "                chunk4.append('')\n",
    "                chunk5.append('')\n",
    "                chunk6.append('')\n",
    "                chunk7.append('')\n",
    "                chunk8.append('')\n",
    "                chunk9.append('')\n",
    "                chunk10.append('')\n",
    "                dur1.append(script1['duration'][i-count])\n",
    "                dur2.append('')\n",
    "                dur3.append('')\n",
    "                dur4.append('')\n",
    "                dur5.append('')\n",
    "                dur6.append('')\n",
    "                dur7.append('')\n",
    "                dur8.append('')\n",
    "                dur9.append('')\n",
    "                dur10.append('')\n",
    "            elif count==1:\n",
    "                chunk1.append(script1['sentence3'][i-count])\n",
    "                chunk2.append(script1['sentence3'][i-count+1])\n",
    "                chunk3.append('')\n",
    "                chunk4.append('')\n",
    "                chunk5.append('')\n",
    "                chunk6.append('')\n",
    "                chunk7.append('')\n",
    "                chunk8.append('')\n",
    "                chunk9.append('')\n",
    "                chunk10.append('')\n",
    "                dur1.append(script1['duration'][i-count])\n",
    "                dur2.append(script1['duration'][i-count+1])\n",
    "                dur3.append('')\n",
    "                dur4.append('')\n",
    "                dur5.append('')\n",
    "                dur6.append('')\n",
    "                dur7.append('')\n",
    "                dur8.append('')\n",
    "                dur9.append('')\n",
    "                dur10.append('')\n",
    "            elif count==2:\n",
    "                chunk1.append(script1['sentence3'][i-count])\n",
    "                chunk2.append(script1['sentence3'][i-count+1])\n",
    "                chunk3.append(script1['sentence3'][i-count+2])\n",
    "                chunk4.append('')\n",
    "                chunk5.append('')\n",
    "                chunk6.append('')\n",
    "                chunk7.append('')\n",
    "                chunk8.append('')\n",
    "                chunk9.append('')\n",
    "                chunk10.append('')\n",
    "                dur1.append(script1['duration'][i-count])\n",
    "                dur2.append(script1['duration'][i-count+1])\n",
    "                dur3.append(script1['duration'][i-count+2])\n",
    "                dur4.append('')\n",
    "                dur5.append('')\n",
    "                dur6.append('')\n",
    "                dur7.append('')\n",
    "                dur8.append('')\n",
    "                dur9.append('')\n",
    "                dur10.append('')\n",
    "            elif count==3:\n",
    "                chunk1.append(script1['sentence3'][i-count])\n",
    "                chunk2.append(script1['sentence3'][i-count+1])\n",
    "                chunk3.append(script1['sentence3'][i-count+2])\n",
    "                chunk4.append(script1['sentence3'][i-count+3])\n",
    "                chunk5.append('')\n",
    "                chunk6.append('')\n",
    "                chunk7.append('')\n",
    "                chunk8.append('')\n",
    "                chunk9.append('')\n",
    "                chunk10.append('')\n",
    "                dur1.append(script1['duration'][i-count])\n",
    "                dur2.append(script1['duration'][i-count+1])\n",
    "                dur3.append(script1['duration'][i-count+2])\n",
    "                dur4.append(script1['duration'][i-count+3])\n",
    "                dur5.append('')\n",
    "                dur6.append('')\n",
    "                dur7.append('')\n",
    "                dur8.append('')\n",
    "                dur9.append('')\n",
    "                dur10.append('')\n",
    "            elif count==4:\n",
    "                chunk1.append(script1['sentence3'][i-count])\n",
    "                chunk2.append(script1['sentence3'][i-count+1])\n",
    "                chunk3.append(script1['sentence3'][i-count+2])\n",
    "                chunk4.append(script1['sentence3'][i-count+3])\n",
    "                chunk5.append(script1['sentence3'][i-count+4])\n",
    "                chunk6.append('')\n",
    "                chunk7.append('')\n",
    "                chunk8.append('')\n",
    "                chunk9.append('')\n",
    "                chunk10.append('')\n",
    "                dur1.append(script1['duration'][i-count])\n",
    "                dur2.append(script1['duration'][i-count+1])\n",
    "                dur3.append(script1['duration'][i-count+2])\n",
    "                dur4.append(script1['duration'][i-count+3])\n",
    "                dur5.append(script1['duration'][i-count+4])\n",
    "                dur6.append('')\n",
    "                dur7.append('')\n",
    "                dur8.append('')\n",
    "                dur9.append('')\n",
    "                dur10.append('')\n",
    "            elif count==5:\n",
    "                chunk1.append(script1['sentence3'][i-count])\n",
    "                chunk2.append(script1['sentence3'][i-count+1])\n",
    "                chunk3.append(script1['sentence3'][i-count+2])\n",
    "                chunk4.append(script1['sentence3'][i-count+3])\n",
    "                chunk5.append(script1['sentence3'][i-count+4])\n",
    "                chunk6.append(script1['sentence3'][i-count+5])\n",
    "                chunk7.append('')\n",
    "                chunk8.append('')\n",
    "                chunk9.append('')\n",
    "                chunk10.append('')\n",
    "                dur1.append(script1['duration'][i-count])\n",
    "                dur2.append(script1['duration'][i-count+1])\n",
    "                dur3.append(script1['duration'][i-count+2])\n",
    "                dur4.append(script1['duration'][i-count+3])\n",
    "                dur5.append(script1['duration'][i-count+4])\n",
    "                dur6.append(script1['duration'][i-count+5])\n",
    "                dur7.append('')\n",
    "                dur8.append('')\n",
    "                dur9.append('')\n",
    "                dur10.append('')\n",
    "            elif count==6:\n",
    "                chunk1.append(script1['sentence3'][i-count])\n",
    "                chunk2.append(script1['sentence3'][i-count+1])\n",
    "                chunk3.append(script1['sentence3'][i-count+2])\n",
    "                chunk4.append(script1['sentence3'][i-count+3])\n",
    "                chunk5.append(script1['sentence3'][i-count+4])\n",
    "                chunk6.append(script1['sentence3'][i-count+5])\n",
    "                chunk7.append(script1['sentence3'][i-count+6])\n",
    "                chunk8.append('')\n",
    "                chunk9.append('')\n",
    "                chunk10.append('')\n",
    "                dur1.append(script1['duration'][i-count])\n",
    "                dur2.append(script1['duration'][i-count+1])\n",
    "                dur3.append(script1['duration'][i-count+2])\n",
    "                dur4.append(script1['duration'][i-count+3])\n",
    "                dur5.append(script1['duration'][i-count+4])\n",
    "                dur6.append(script1['duration'][i-count+5])\n",
    "                dur7.append(script1['duration'][i-count+6])\n",
    "                dur8.append('')\n",
    "                dur9.append('')\n",
    "                dur10.append('')\n",
    "            elif count==7:\n",
    "                chunk1.append(script1['sentence3'][i-count])\n",
    "                chunk2.append(script1['sentence3'][i-count+1])\n",
    "                chunk3.append(script1['sentence3'][i-count+2])\n",
    "                chunk4.append(script1['sentence3'][i-count+3])\n",
    "                chunk5.append(script1['sentence3'][i-count+4])\n",
    "                chunk6.append(script1['sentence3'][i-count+5])\n",
    "                chunk7.append(script1['sentence3'][i-count+6])\n",
    "                chunk8.append(script1['sentence3'][i-count+7])\n",
    "                chunk9.append('')\n",
    "                chunk10.append('')\n",
    "                dur1.append(script1['duration'][i-count])\n",
    "                dur2.append(script1['duration'][i-count+1])\n",
    "                dur3.append(script1['duration'][i-count+2])\n",
    "                dur4.append(script1['duration'][i-count+3])\n",
    "                dur5.append(script1['duration'][i-count+4])\n",
    "                dur6.append(script1['duration'][i-count+5])\n",
    "                dur7.append(script1['duration'][i-count+6])\n",
    "                dur8.append(script1['duration'][i-count+7])\n",
    "                dur9.append('')\n",
    "                dur10.append('')\n",
    "            elif count ==8:\n",
    "                chunk1.append(script1['sentence3'][i-count])\n",
    "                chunk2.append(script1['sentence3'][i-count+1])\n",
    "                chunk3.append(script1['sentence3'][i-count+2])\n",
    "                chunk4.append(script1['sentence3'][i-count+3])\n",
    "                chunk5.append(script1['sentence3'][i-count+4])\n",
    "                chunk6.append(script1['sentence3'][i-count+5])\n",
    "                chunk7.append(script1['sentence3'][i-count+6])\n",
    "                chunk8.append(script1['sentence3'][i-count+7])\n",
    "                chunk9.append(script1['sentence3'][i-count+8])\n",
    "                chunk10.append('')\n",
    "                dur1.append(script1['duration'][i-count])\n",
    "                dur2.append(script1['duration'][i-count+1])\n",
    "                dur3.append(script1['duration'][i-count+2])\n",
    "                dur4.append(script1['duration'][i-count+3])\n",
    "                dur5.append(script1['duration'][i-count+4])\n",
    "                dur6.append(script1['duration'][i-count+5])\n",
    "                dur7.append(script1['duration'][i-count+6])\n",
    "                dur8.append(script1['duration'][i-count+7])\n",
    "                dur9.append(script1['duration'][i-count+8])\n",
    "                dur10.append('')\n",
    "            elif count ==9:\n",
    "                chunk1.append(script1['sentence3'][i-count])\n",
    "                chunk2.append(script1['sentence3'][i-count+1])\n",
    "                chunk3.append(script1['sentence3'][i-count+2])\n",
    "                chunk4.append(script1['sentence3'][i-count+3])\n",
    "                chunk5.append(script1['sentence3'][i-count+4])\n",
    "                chunk6.append(script1['sentence3'][i-count+5])\n",
    "                chunk7.append(script1['sentence3'][i-count+6])\n",
    "                chunk8.append(script1['sentence3'][i-count+7])\n",
    "                chunk9.append(script1['sentence3'][i-count+8])\n",
    "                chunk10.append(script1['sentence3'][i-count+9])\n",
    "                dur1.append(script1['duration'][i-count])\n",
    "                dur2.append(script1['duration'][i-count+1])\n",
    "                dur3.append(script1['duration'][i-count+2])\n",
    "                dur4.append(script1['duration'][i-count+3])\n",
    "                dur5.append(script1['duration'][i-count+4])\n",
    "                dur6.append(script1['duration'][i-count+5])\n",
    "                dur7.append(script1['duration'][i-count+6])\n",
    "                dur8.append(script1['duration'][i-count+7])\n",
    "                dur9.append(script1['duration'][i-count+8])\n",
    "                dur10.append(script1['duration'][i-count+9])   \n",
    "            count=0 \n",
    "        else:\n",
    "            a=a+ ' ' + script1['sentence3'][i]\n",
    "            count=count+1        \n",
    "    final=pd.DataFrame([sentence_cut,chunk1,chunk2,chunk3,chunk4,chunk5,chunk6,chunk7,chunk8,chunk9,chunk10,start_cut,end_cut,dur1,dur2,dur3,dur4,dur5,dur6,dur7,dur8,dur9,dur10]).T\n",
    "    final.columns=['sentence','chunk1','chunk2','chunk3','chunk4','chunk5','chunk6','chunk7','chunk8','chunk9','chunk10','start','end','dur1','dur2','dur3','dur4','dur5','dur6','dur7','dur8','dur9','dur10']\n",
    "    final['duration']=final['end']-final['start']\n",
    "    for i in range(len(final)):\n",
    "        sound_sliced=sound[final['start'][i]*1000:final['end'][i]*1000]\n",
    "        sound_sliced.export(path3+file_list1[g].replace(\".wav\",\"\")+\"_\"+str(i)+\".wav\", format=\"wav\")\n",
    "        #y,sr= librosa.load(voice1,offset=final['start'][i],duration=final['duration'][i],sr=16000)\n",
    "        #librosa.output.write_wav(path3+file_list1[g].replace(\".wav\",\"\")+\"_\"+str(i)+\".wav\",y,sr)\n",
    "    final.to_csv(path3+file_list1[g]+'.csv',index=False)\n",
    "    break\n",
    "    \n"
   ]
  },
  {
   "cell_type": "markdown",
   "metadata": {},
   "source": [
    "# 주어진 형식대로 자르기"
   ]
  },
  {
   "cell_type": "code",
   "execution_count": 40,
   "metadata": {},
   "outputs": [
    {
     "ename": "KeyError",
     "evalue": "'sentence1'",
     "output_type": "error",
     "traceback": [
      "\u001b[1;31m---------------------------------------------------------------------------\u001b[0m",
      "\u001b[1;31mKeyError\u001b[0m                                  Traceback (most recent call last)",
      "\u001b[1;32mC:\\ProgramData\\Anaconda3\\lib\\site-packages\\pandas\\core\\indexes\\base.py\u001b[0m in \u001b[0;36mget_loc\u001b[1;34m(self, key, method, tolerance)\u001b[0m\n\u001b[0;32m   2645\u001b[0m             \u001b[1;32mtry\u001b[0m\u001b[1;33m:\u001b[0m\u001b[1;33m\u001b[0m\u001b[1;33m\u001b[0m\u001b[0m\n\u001b[1;32m-> 2646\u001b[1;33m                 \u001b[1;32mreturn\u001b[0m \u001b[0mself\u001b[0m\u001b[1;33m.\u001b[0m\u001b[0m_engine\u001b[0m\u001b[1;33m.\u001b[0m\u001b[0mget_loc\u001b[0m\u001b[1;33m(\u001b[0m\u001b[0mkey\u001b[0m\u001b[1;33m)\u001b[0m\u001b[1;33m\u001b[0m\u001b[1;33m\u001b[0m\u001b[0m\n\u001b[0m\u001b[0;32m   2647\u001b[0m             \u001b[1;32mexcept\u001b[0m \u001b[0mKeyError\u001b[0m\u001b[1;33m:\u001b[0m\u001b[1;33m\u001b[0m\u001b[1;33m\u001b[0m\u001b[0m\n",
      "\u001b[1;32mpandas\\_libs\\index.pyx\u001b[0m in \u001b[0;36mpandas._libs.index.IndexEngine.get_loc\u001b[1;34m()\u001b[0m\n",
      "\u001b[1;32mpandas\\_libs\\index.pyx\u001b[0m in \u001b[0;36mpandas._libs.index.IndexEngine.get_loc\u001b[1;34m()\u001b[0m\n",
      "\u001b[1;32mpandas\\_libs\\hashtable_class_helper.pxi\u001b[0m in \u001b[0;36mpandas._libs.hashtable.PyObjectHashTable.get_item\u001b[1;34m()\u001b[0m\n",
      "\u001b[1;32mpandas\\_libs\\hashtable_class_helper.pxi\u001b[0m in \u001b[0;36mpandas._libs.hashtable.PyObjectHashTable.get_item\u001b[1;34m()\u001b[0m\n",
      "\u001b[1;31mKeyError\u001b[0m: 'sentence1'",
      "\nDuring handling of the above exception, another exception occurred:\n",
      "\u001b[1;31mKeyError\u001b[0m                                  Traceback (most recent call last)",
      "\u001b[1;32m<ipython-input-40-8de206b5c3d9>\u001b[0m in \u001b[0;36m<module>\u001b[1;34m\u001b[0m\n\u001b[0;32m     14\u001b[0m     \u001b[1;32melif\u001b[0m \u001b[0mlen\u001b[0m\u001b[1;33m(\u001b[0m\u001b[0mscript1\u001b[0m\u001b[1;33m.\u001b[0m\u001b[0mcolumns\u001b[0m\u001b[1;33m)\u001b[0m\u001b[1;33m==\u001b[0m\u001b[1;36m4\u001b[0m\u001b[1;33m:\u001b[0m\u001b[1;33m\u001b[0m\u001b[1;33m\u001b[0m\u001b[0m\n\u001b[0;32m     15\u001b[0m         \u001b[0mscript1\u001b[0m\u001b[1;33m[\u001b[0m\u001b[1;34m'sentence2'\u001b[0m\u001b[1;33m]\u001b[0m\u001b[1;33m.\u001b[0m\u001b[0mfillna\u001b[0m\u001b[1;33m(\u001b[0m\u001b[1;34m''\u001b[0m\u001b[1;33m,\u001b[0m\u001b[0minplace\u001b[0m\u001b[1;33m=\u001b[0m\u001b[1;32mTrue\u001b[0m\u001b[1;33m)\u001b[0m\u001b[1;33m\u001b[0m\u001b[1;33m\u001b[0m\u001b[0m\n\u001b[1;32m---> 16\u001b[1;33m     \u001b[0mscript1\u001b[0m\u001b[1;33m[\u001b[0m\u001b[1;34m'sentence3'\u001b[0m\u001b[1;33m]\u001b[0m\u001b[1;33m=\u001b[0m\u001b[0mscript1\u001b[0m\u001b[1;33m[\u001b[0m\u001b[1;34m'sentence1'\u001b[0m\u001b[1;33m]\u001b[0m\u001b[1;33m+\u001b[0m\u001b[1;34m' '\u001b[0m\u001b[1;33m+\u001b[0m\u001b[0mscript1\u001b[0m\u001b[1;33m[\u001b[0m\u001b[1;34m'sentence2'\u001b[0m\u001b[1;33m]\u001b[0m\u001b[1;33m\u001b[0m\u001b[1;33m\u001b[0m\u001b[0m\n\u001b[0m\u001b[0;32m     17\u001b[0m \u001b[1;31m## start##\u001b[0m\u001b[1;33m\u001b[0m\u001b[1;33m\u001b[0m\u001b[1;33m\u001b[0m\u001b[0m\n\u001b[0;32m     18\u001b[0m     \u001b[0mspl\u001b[0m\u001b[1;33m=\u001b[0m\u001b[0mscript1\u001b[0m\u001b[1;33m[\u001b[0m\u001b[1;34m'start'\u001b[0m\u001b[1;33m]\u001b[0m\u001b[1;33m.\u001b[0m\u001b[0mstr\u001b[0m\u001b[1;33m.\u001b[0m\u001b[0msplit\u001b[0m\u001b[1;33m(\u001b[0m\u001b[1;34m':'\u001b[0m\u001b[1;33m)\u001b[0m\u001b[1;33m\u001b[0m\u001b[1;33m\u001b[0m\u001b[0m\n",
      "\u001b[1;32mC:\\ProgramData\\Anaconda3\\lib\\site-packages\\pandas\\core\\frame.py\u001b[0m in \u001b[0;36m__getitem__\u001b[1;34m(self, key)\u001b[0m\n\u001b[0;32m   2798\u001b[0m             \u001b[1;32mif\u001b[0m \u001b[0mself\u001b[0m\u001b[1;33m.\u001b[0m\u001b[0mcolumns\u001b[0m\u001b[1;33m.\u001b[0m\u001b[0mnlevels\u001b[0m \u001b[1;33m>\u001b[0m \u001b[1;36m1\u001b[0m\u001b[1;33m:\u001b[0m\u001b[1;33m\u001b[0m\u001b[1;33m\u001b[0m\u001b[0m\n\u001b[0;32m   2799\u001b[0m                 \u001b[1;32mreturn\u001b[0m \u001b[0mself\u001b[0m\u001b[1;33m.\u001b[0m\u001b[0m_getitem_multilevel\u001b[0m\u001b[1;33m(\u001b[0m\u001b[0mkey\u001b[0m\u001b[1;33m)\u001b[0m\u001b[1;33m\u001b[0m\u001b[1;33m\u001b[0m\u001b[0m\n\u001b[1;32m-> 2800\u001b[1;33m             \u001b[0mindexer\u001b[0m \u001b[1;33m=\u001b[0m \u001b[0mself\u001b[0m\u001b[1;33m.\u001b[0m\u001b[0mcolumns\u001b[0m\u001b[1;33m.\u001b[0m\u001b[0mget_loc\u001b[0m\u001b[1;33m(\u001b[0m\u001b[0mkey\u001b[0m\u001b[1;33m)\u001b[0m\u001b[1;33m\u001b[0m\u001b[1;33m\u001b[0m\u001b[0m\n\u001b[0m\u001b[0;32m   2801\u001b[0m             \u001b[1;32mif\u001b[0m \u001b[0mis_integer\u001b[0m\u001b[1;33m(\u001b[0m\u001b[0mindexer\u001b[0m\u001b[1;33m)\u001b[0m\u001b[1;33m:\u001b[0m\u001b[1;33m\u001b[0m\u001b[1;33m\u001b[0m\u001b[0m\n\u001b[0;32m   2802\u001b[0m                 \u001b[0mindexer\u001b[0m \u001b[1;33m=\u001b[0m \u001b[1;33m[\u001b[0m\u001b[0mindexer\u001b[0m\u001b[1;33m]\u001b[0m\u001b[1;33m\u001b[0m\u001b[1;33m\u001b[0m\u001b[0m\n",
      "\u001b[1;32mC:\\ProgramData\\Anaconda3\\lib\\site-packages\\pandas\\core\\indexes\\base.py\u001b[0m in \u001b[0;36mget_loc\u001b[1;34m(self, key, method, tolerance)\u001b[0m\n\u001b[0;32m   2646\u001b[0m                 \u001b[1;32mreturn\u001b[0m \u001b[0mself\u001b[0m\u001b[1;33m.\u001b[0m\u001b[0m_engine\u001b[0m\u001b[1;33m.\u001b[0m\u001b[0mget_loc\u001b[0m\u001b[1;33m(\u001b[0m\u001b[0mkey\u001b[0m\u001b[1;33m)\u001b[0m\u001b[1;33m\u001b[0m\u001b[1;33m\u001b[0m\u001b[0m\n\u001b[0;32m   2647\u001b[0m             \u001b[1;32mexcept\u001b[0m \u001b[0mKeyError\u001b[0m\u001b[1;33m:\u001b[0m\u001b[1;33m\u001b[0m\u001b[1;33m\u001b[0m\u001b[0m\n\u001b[1;32m-> 2648\u001b[1;33m                 \u001b[1;32mreturn\u001b[0m \u001b[0mself\u001b[0m\u001b[1;33m.\u001b[0m\u001b[0m_engine\u001b[0m\u001b[1;33m.\u001b[0m\u001b[0mget_loc\u001b[0m\u001b[1;33m(\u001b[0m\u001b[0mself\u001b[0m\u001b[1;33m.\u001b[0m\u001b[0m_maybe_cast_indexer\u001b[0m\u001b[1;33m(\u001b[0m\u001b[0mkey\u001b[0m\u001b[1;33m)\u001b[0m\u001b[1;33m)\u001b[0m\u001b[1;33m\u001b[0m\u001b[1;33m\u001b[0m\u001b[0m\n\u001b[0m\u001b[0;32m   2649\u001b[0m         \u001b[0mindexer\u001b[0m \u001b[1;33m=\u001b[0m \u001b[0mself\u001b[0m\u001b[1;33m.\u001b[0m\u001b[0mget_indexer\u001b[0m\u001b[1;33m(\u001b[0m\u001b[1;33m[\u001b[0m\u001b[0mkey\u001b[0m\u001b[1;33m]\u001b[0m\u001b[1;33m,\u001b[0m \u001b[0mmethod\u001b[0m\u001b[1;33m=\u001b[0m\u001b[0mmethod\u001b[0m\u001b[1;33m,\u001b[0m \u001b[0mtolerance\u001b[0m\u001b[1;33m=\u001b[0m\u001b[0mtolerance\u001b[0m\u001b[1;33m)\u001b[0m\u001b[1;33m\u001b[0m\u001b[1;33m\u001b[0m\u001b[0m\n\u001b[0;32m   2650\u001b[0m         \u001b[1;32mif\u001b[0m \u001b[0mindexer\u001b[0m\u001b[1;33m.\u001b[0m\u001b[0mndim\u001b[0m \u001b[1;33m>\u001b[0m \u001b[1;36m1\u001b[0m \u001b[1;32mor\u001b[0m \u001b[0mindexer\u001b[0m\u001b[1;33m.\u001b[0m\u001b[0msize\u001b[0m \u001b[1;33m>\u001b[0m \u001b[1;36m1\u001b[0m\u001b[1;33m:\u001b[0m\u001b[1;33m\u001b[0m\u001b[1;33m\u001b[0m\u001b[0m\n",
      "\u001b[1;32mpandas\\_libs\\index.pyx\u001b[0m in \u001b[0;36mpandas._libs.index.IndexEngine.get_loc\u001b[1;34m()\u001b[0m\n",
      "\u001b[1;32mpandas\\_libs\\index.pyx\u001b[0m in \u001b[0;36mpandas._libs.index.IndexEngine.get_loc\u001b[1;34m()\u001b[0m\n",
      "\u001b[1;32mpandas\\_libs\\hashtable_class_helper.pxi\u001b[0m in \u001b[0;36mpandas._libs.hashtable.PyObjectHashTable.get_item\u001b[1;34m()\u001b[0m\n",
      "\u001b[1;32mpandas\\_libs\\hashtable_class_helper.pxi\u001b[0m in \u001b[0;36mpandas._libs.hashtable.PyObjectHashTable.get_item\u001b[1;34m()\u001b[0m\n",
      "\u001b[1;31mKeyError\u001b[0m: 'sentence1'"
     ]
    }
   ],
   "source": [
    "path1='C:/Users/todtj/OneDrive/바탕 화면/TED1/'   # 원본 음성파일\n",
    "path2='C:/Users/todtj/OneDrive/바탕 화면/script1/' # 크롤링해서 저장된 폴더\n",
    "path3='C:/Users/todtj/OneDrive/바탕 화면/save/'   # 저장될공간\n",
    "file_list1=os.listdir(path1)\n",
    "file_list2=os.listdir(path2)\n",
    "for g in range(len(file_list2)):\n",
    "    #voice1=path1+file_list1[g]\n",
    "    #sound = AudioSegment.from_file(voice1,frame_rate=16000)\n",
    "    script1=pd.read_csv(path2+file_list2[g],encoding='utf-8')\n",
    "    if script1.columns[0]=='Unnamed: 0':\n",
    "        del script1['Unnamed: 0']\n",
    "    if len(script1.columns)==3:\n",
    "        script1['sentence2']=''\n",
    "    elif len(script1.columns)==4:\n",
    "        script1['sentence2'].fillna('',inplace=True)\n",
    "    script1['sentence3']=script1['sentence1']+' '+script1['sentence2']\n",
    "## start##\n",
    "    spl=script1['start'].str.split(':')\n",
    "    empty=[]\n",
    "    for i in range(len(script1)):\n",
    "        minute=float(spl[i][1])*60\n",
    "        seconds=float(spl[i][2])\n",
    "        m_s=minute+seconds\n",
    "        empty.append(m_s)\n",
    "    script1['start_seconds']=empty\n",
    "## end##\n",
    "    spl=script1['end'].str.split(':')\n",
    "    empty=[]\n",
    "    for i in range(len(script1)):\n",
    "        minute=float(spl[i][1])*60\n",
    "        seconds=float(spl[i][2])\n",
    "        m_s=minute+seconds\n",
    "        empty.append(m_s)\n",
    "    script1['end_seconds']=empty\n",
    "    script1['start_seconds1']=script1['start_seconds']+12.9\n",
    "    script1['end_seconds1']=script1['end_seconds']+12.9\n",
    "    final=pd.DataFrame([script1.sentence3,script1.start_seconds1,script1.end_seconds1]).T\n",
    "    final.columns=['sentence','start','end']\n",
    "    final['duration']=final['end']-final['start']\n",
    "    #for i in range(len(final)):\n",
    "        #sound_sliced=sound[(final['start'][i]*1000-400):final['end'][i]*1000]\n",
    "        #sound_sliced.export(path3+file_list1[g].replace(\".wav\",\"\")+\"_\"+str(i)+\".wav\", format=\"wav\",bitrate=16)\n",
    "        \n",
    "        #y,sr= librosa.load(voice1,offset=final['start'][i],duration=final['duration'][i],sr=16000)\n",
    "        #librosa.output.write_wav(path3+file_list1[g].replace(\".wav\",\"\")+\"_\"+str(i)+\".wav\",y,sr)\n",
    "    final['talks_id']= file_list1[g].replace('.wav','')\n",
    "    final.to_csv(path3+file_list1[g]+'.csv',index=False)\n",
    "    break"
   ]
  },
  {
   "cell_type": "code",
   "execution_count": 1,
   "metadata": {},
   "outputs": [],
   "source": [
    "path='C:/Users/todtj/OneDrive/바탕 화면/more_koreans/'"
   ]
  },
  {
   "cell_type": "code",
   "execution_count": 3,
   "metadata": {},
   "outputs": [
    {
     "data": {
      "text/plain": [
       "['korean53.mp3',\n",
       " 'korean54.mp3',\n",
       " 'korean55.mp3',\n",
       " 'korean56.mp3',\n",
       " 'korean57.mp3',\n",
       " 'korean58.mp3',\n",
       " 'korean59.mp3',\n",
       " 'korean60.mp3',\n",
       " 'korean61.mp3',\n",
       " 'korean62.mp3',\n",
       " 'korean63.mp3',\n",
       " 'korean64.mp3',\n",
       " 'korean65.mp3',\n",
       " 'korean66.mp3',\n",
       " 'korean67.mp3',\n",
       " 'korean68.mp3',\n",
       " 'korean69.mp3',\n",
       " 'korean70.mp3',\n",
       " 'korean71.mp3',\n",
       " 'korean72.mp3',\n",
       " 'korean73.mp3',\n",
       " 'korean74.mp3',\n",
       " 'korean75.mp3',\n",
       " 'korean76.mp3',\n",
       " 'korean77.mp3',\n",
       " 'korean78.mp3',\n",
       " 'korean79.mp3',\n",
       " 'korean80.mp3',\n",
       " 'korean81.mp3',\n",
       " 'korean82.mp3',\n",
       " 'korean83.mp3',\n",
       " 'korean84.mp3',\n",
       " 'korean85.mp3',\n",
       " 'korean86.mp3',\n",
       " 'korean87.mp3',\n",
       " 'korean88.mp3',\n",
       " 'korean89.mp3',\n",
       " 'korean90.mp3',\n",
       " 'korean91.mp3',\n",
       " 'korean92.mp3',\n",
       " 'korean93.mp3',\n",
       " 'korean94.mp3']"
      ]
     },
     "execution_count": 3,
     "metadata": {},
     "output_type": "execute_result"
    }
   ],
   "source": [
    "os.listdir(path)"
   ]
  },
  {
   "cell_type": "code",
   "execution_count": 25,
   "metadata": {},
   "outputs": [],
   "source": [
    "path3='C:/Users/todtj/OneDrive/바탕 화면/save1/4_0.wav'"
   ]
  },
  {
   "cell_type": "code",
   "execution_count": 29,
   "metadata": {},
   "outputs": [
    {
     "data": {
      "text/plain": [
       "<_io.BufferedRandom name='C:/Users/todtj/OneDrive/바탕 화면/save1/4_0.wavasdf.wav'>"
      ]
     },
     "execution_count": 29,
     "metadata": {},
     "output_type": "execute_result"
    }
   ],
   "source": [
    "sound = AudioSegment.from_file(path3,frame_rate=16000)\n",
    "sound_sliced=sound\n",
    "sound_sliced.export(path3+'asdf'+\".wav\", format=\"wav\",bitrate=16)"
   ]
  },
  {
   "cell_type": "code",
   "execution_count": 28,
   "metadata": {},
   "outputs": [
    {
     "data": {
      "text/html": [
       "\n",
       "                    <audio controls>\n",
       "                        <source src=\"data:audio/mpeg;base64,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\" type=\"audio/mpeg\"/>\n",
       "                        Your browser does not support the audio element.\n",
       "                    </audio>\n",
       "                  "
      ],
      "text/plain": [
       "<pydub.audio_segment.AudioSegment at 0x20d6108ea00>"
      ]
     },
     "execution_count": 28,
     "metadata": {},
     "output_type": "execute_result"
    }
   ],
   "source": [
    "sound"
   ]
  },
  {
   "cell_type": "code",
   "execution_count": null,
   "metadata": {},
   "outputs": [],
   "source": [
    "sound = AudioSegment.from_mp3(src)\n",
    "sound.export(dst, format=\"wav\")"
   ]
  },
  {
   "cell_type": "code",
   "execution_count": 41,
   "metadata": {},
   "outputs": [
    {
     "data": {
      "text/plain": [
       "'C:/Users/todtj/OneDrive/바탕 화면/more_koreans/'"
      ]
     },
     "execution_count": 41,
     "metadata": {},
     "output_type": "execute_result"
    }
   ],
   "source": [
    "path"
   ]
  },
  {
   "cell_type": "code",
   "execution_count": 40,
   "metadata": {},
   "outputs": [
    {
     "data": {
      "text/plain": [
       "'C:/Users/todtj/OneDrive/바탕 화면/save1/4_0.wav'"
      ]
     },
     "execution_count": 40,
     "metadata": {},
     "output_type": "execute_result"
    }
   ],
   "source": [
    "path3"
   ]
  },
  {
   "cell_type": "code",
   "execution_count": 42,
   "metadata": {},
   "outputs": [
    {
     "data": {
      "text/plain": [
       "'C:/Users/todtj/OneDrive/바탕 화면/more_koreans/'"
      ]
     },
     "execution_count": 42,
     "metadata": {},
     "output_type": "execute_result"
    }
   ],
   "source": [
    "path"
   ]
  },
  {
   "cell_type": "code",
   "execution_count": 45,
   "metadata": {},
   "outputs": [],
   "source": [
    "path3='C:/Users/todtj/OneDrive/바탕 화면/mk/'"
   ]
  },
  {
   "cell_type": "code",
   "execution_count": 49,
   "metadata": {},
   "outputs": [],
   "source": [
    "for i in range(len(os.listdir(path))):\n",
    "     sound = AudioSegment.from_file(path+os.listdir(path)[i],frame_rate=16000)\n",
    "     count=0\n",
    "     while count<len(sound):\n",
    "         sound_sliced=sound[count:count+5000]\n",
    "         sound_sliced.export(path3+os.listdir(path)[i].replace(\".wav\",\"\")+\"_\"+str(int(count/5000))+\".wav\", format=\"wav\",bitrate=16)\n",
    "         count=count+5000\n",
    "         break\n",
    "     break"
   ]
  },
  {
   "cell_type": "code",
   "execution_count": null,
   "metadata": {},
   "outputs": [],
   "source": [
    "for i in range(len(os.listdir(path))):\n",
    "    y, sr = librosa.load(librosa.util.example_audio_file(),duration=5.0)\n",
    "    librosa.output.write_wav('file_trim_5s.wav', y, sr)"
   ]
  },
  {
   "cell_type": "code",
   "execution_count": 15,
   "metadata": {},
   "outputs": [
    {
     "data": {
      "text/plain": [
       "30877"
      ]
     },
     "execution_count": 15,
     "metadata": {},
     "output_type": "execute_result"
    }
   ],
   "source": [
    "len(sound)"
   ]
  },
  {
   "cell_type": "code",
   "execution_count": 13,
   "metadata": {},
   "outputs": [],
   "source": [
    "sound = AudioSegment.from_file(path+os.listdir(path)[0],frame_rate=16000)"
   ]
  },
  {
   "cell_type": "code",
   "execution_count": null,
   "metadata": {},
   "outputs": [],
   "source": [
    "sound = AudioSegment.from_file(voice1,frame_rate=16000)"
   ]
  },
  {
   "cell_type": "code",
   "execution_count": null,
   "metadata": {},
   "outputs": [],
   "source": []
  },
  {
   "cell_type": "markdown",
   "metadata": {},
   "source": [
    "#  모든 csv파일들 합치기"
   ]
  },
  {
   "cell_type": "code",
   "execution_count": null,
   "metadata": {},
   "outputs": [],
   "source": [
    "for i in range(len(file_list2)):\n",
    "    a=path2+file_list2[i]\n",
    "    df=pd.read_csv(a)\n",
    "    df['talk_id']"
   ]
  }
 ],
 "metadata": {
  "kernelspec": {
   "display_name": "Python 3",
   "language": "python",
   "name": "python3"
  },
  "language_info": {
   "codemirror_mode": {
    "name": "ipython",
    "version": 3
   },
   "file_extension": ".py",
   "mimetype": "text/x-python",
   "name": "python",
   "nbconvert_exporter": "python",
   "pygments_lexer": "ipython3",
   "version": "3.8.3"
  }
 },
 "nbformat": 4,
 "nbformat_minor": 4
}
